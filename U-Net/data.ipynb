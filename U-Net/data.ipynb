{
  "nbformat": 4,
  "nbformat_minor": 0,
  "metadata": {
    "colab": {
      "name": "data.ipynb",
      "provenance": [],
      "collapsed_sections": []
    },
    "kernelspec": {
      "name": "python3",
      "display_name": "Python 3"
    }
  },
  "cells": [
    {
      "cell_type": "code",
      "metadata": {
        "id": "e4tK22bWcM6x",
        "colab": {
          "base_uri": "https://localhost:8080/",
          "height": 204
        },
        "outputId": "ba52493f-1b58-402c-8964-71a447bf6a3c"
      },
      "source": [
        "# -*- coding:utf-8 -*-\n",
        "\n",
        "from keras.preprocessing.image import img_to_array, load_img\n",
        "import numpy as np\n",
        "import glob\n",
        "\n",
        "\n",
        "class dataProcess(object):\n",
        "  def __init__(self, out_rows, out_cols, data_path=\"/content/drive/My Drive/codalab/satellite_images\", label_path=\"/content/drive/My Drive/codalab/masks\", \n",
        "               test_path=\"/content/drive/My Drive/codalab/test/sat\", npy_path=\"/content/drive/My Drive/codalab/npydata\", img_type=\"jpg\"):\n",
        "    self.out_rows = out_rows\n",
        "    self.out_cols = out_cols\n",
        "    self.data_path = data_path\n",
        "    self.label_path = label_path\n",
        "    self.img_type = img_type\n",
        "    self.test_path = test_path\n",
        "    self.npy_path = npy_path\n",
        "\n",
        "  def create_train_data(self):\n",
        "    i = 0\n",
        "    print('Creating training images...')\n",
        "    imgs = glob.glob(self.data_path+\"/*.\"+self.img_type)\n",
        "    labels = glob.glob(self.label_path+\"/*.\"+self.img_type)\n",
        "    imgdatas = np.ndarray((len(imgs), self.out_rows, self.out_cols, 3), dtype=np.uint8)\n",
        "    imglabels = np.ndarray((len(imgs), self.out_rows, self.out_cols, 1), dtype=np.uint8)\n",
        "\n",
        "    for x in range(len(imgs)):\n",
        "      imgpath = imgs[x]\n",
        "      #print('imgpath: ', imgpath)\n",
        "      #labelpath_img = labels[x]\n",
        "      pic_name = imgpath.split('/')[-1]\n",
        "      #print(pic_name)\n",
        "      #label_name = labelpath_img.split('/')[-1]\n",
        "      labelpath = self.label_path + '/' + pic_name\n",
        "      img = load_img(imgpath, target_size=[256, 256])\n",
        "      label = load_img(labelpath, color_mode=\"grayscale\", target_size=[256, 256])\n",
        "      img = img_to_array(img)\n",
        "      label = img_to_array(label)\n",
        "      imgdatas[i] = img\n",
        "      imglabels[i] = label\n",
        "      if i % 100 == 0:\n",
        "        print('Done: {0}/{1} images'.format(i, len(imgs)))\n",
        "      i += 1\n",
        "\n",
        "    print('loading done')\n",
        "    np.save(self.npy_path + '/imgs_train.npy', imgdatas)\n",
        "    np.save(self.npy_path + '/imgs_mask_train.npy', imglabels)\n",
        "    print('Saving to .npy files done.')\n",
        "\n",
        "  def create_test_data(self):\n",
        "    i = 0\n",
        "    print('Creating test images...')\n",
        "    imgs = glob.glob(self.test_path + \"/*.\" + self.img_type)\n",
        "    imgdatas = np.ndarray((len(imgs), self.out_rows, self.out_cols, 3), dtype=np.uint8)\n",
        "    testpathlist = []\n",
        "\n",
        "    for imgname in imgs:\n",
        "      testpath = imgname\n",
        "      testpathlist.append(testpath)\n",
        "      img = load_img(testpath, grayscale=False, target_size=[256, 256])\n",
        "      img = img_to_array(img)\n",
        "      imgdatas[i] = img\n",
        "      i += 1\n",
        "\n",
        "    txtname = '/content/drive/My Drive/codalab/results/pic.txt'\n",
        "    with open(txtname, 'w') as f:\n",
        "      for i in range(len(testpathlist)):\n",
        "        f.writelines(testpathlist[i] + '\\n')\n",
        "    print('loading done')\n",
        "    np.save(self.npy_path + '/imgs_test.npy', imgdatas)\n",
        "    print('Saving to imgs_test.npy files done.')\n",
        "\n",
        "  def load_train_data(self):\n",
        "    print('load train images...')\n",
        "    imgs_train = np.load(self.npy_path + \"/imgs_train.npy\")\n",
        "    imgs_mask_train = np.load(self.npy_path + \"/imgs_mask_train.npy\")\n",
        "    imgs_train = imgs_train.astype('float32')\n",
        "    imgs_mask_train = imgs_mask_train.astype('float32')\n",
        "    imgs_train /= 255\n",
        "    imgs_mask_train /= 255\n",
        "    imgs_mask_train[imgs_mask_train > 0.5] = 1  \n",
        "    imgs_mask_train[imgs_mask_train <= 0.5] = 0 \n",
        "    return imgs_train, imgs_mask_train\n",
        "\n",
        "  def load_test_data(self):\n",
        "    print('-' * 30)\n",
        "    print('load test images...')\n",
        "    print('-' * 30)\n",
        "    imgs_test = np.load(self.npy_path + \"/imgs_test.npy\")\n",
        "    imgs_test = imgs_test.astype('float32')\n",
        "    imgs_test /= 255\n",
        "    return imgs_test\n",
        "    \n",
        "if __name__ == \"__main__\":\n",
        "    mydata = dataProcess(256, 256)\n",
        "    mydata.create_train_data()\n",
        "    mydata.create_test_data()"
      ],
      "execution_count": null,
      "outputs": [
        {
          "output_type": "stream",
          "text": [
            "Creating training images...\n",
            "Done: 0/500 images\n",
            "Done: 100/500 images\n",
            "Done: 200/500 images\n",
            "Done: 300/500 images\n",
            "Done: 400/500 images\n",
            "loading done\n",
            "Saving to .npy files done.\n",
            "Creating test images...\n",
            "loading done\n",
            "Saving to imgs_test.npy files done.\n"
          ],
          "name": "stdout"
        }
      ]
    },
    {
      "cell_type": "code",
      "metadata": {
        "id": "1mEfhqqIe51z"
      },
      "source": [
        ""
      ],
      "execution_count": null,
      "outputs": []
    }
  ]
}